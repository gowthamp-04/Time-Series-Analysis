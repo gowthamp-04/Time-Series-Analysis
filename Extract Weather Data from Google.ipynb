{
  "cells": [
    {
      "cell_type": "markdown",
      "metadata": {
        "id": "view-in-github",
        "colab_type": "text"
      },
      "source": [
        "<a href=\"https://colab.research.google.com/github/gowthamp-04/Time-Series-Analysis/blob/main/Extract%20Weather%20Data%20from%20Google.ipynb\" target=\"_parent\"><img src=\"https://colab.research.google.com/assets/colab-badge.svg\" alt=\"Open In Colab\"/></a>"
      ]
    },
    {
      "cell_type": "markdown",
      "source": [
        "FIRST METHOD"
      ],
      "metadata": {
        "id": "VImUXUi1t9mi"
      }
    },
    {
      "cell_type": "code",
      "source": [
        "import requests\n",
        "from bs4 import BeautifulSoup\n",
        "import pandas as pd\n",
        "import numpy as np"
      ],
      "metadata": {
        "id": "uuTc4_SdkoUN"
      },
      "execution_count": 1,
      "outputs": []
    },
    {
      "cell_type": "code",
      "source": [
        "city = \"lucknow\"\n",
        "url = \"https://www.google.com/search?q=\"+\"weather\"+city\n",
        "request = requests.get(url).content\n",
        "soup = BeautifulSoup(request,'html.parser')"
      ],
      "metadata": {
        "id": "QR2bzmzblhKM"
      },
      "execution_count": 2,
      "outputs": []
    },
    {
      "cell_type": "code",
      "source": [
        "temp = soup.find('div',attrs={'class':'BNeawe iBp4i AP7Wnd'}).text\n",
        "str =soup.find('div',attrs={'class':'BNeawe tAd8D AP7Wnd'}).text"
      ],
      "metadata": {
        "id": "6QjklSlylhEI"
      },
      "execution_count": 4,
      "outputs": []
    },
    {
      "cell_type": "code",
      "source": [
        "data= str.split('\\n')\n",
        "time= data[0]\n",
        "sky= data[1]"
      ],
      "metadata": {
        "id": "tqlWBfQilhAQ"
      },
      "execution_count": 5,
      "outputs": []
    },
    {
      "cell_type": "code",
      "source": [
        "listdiv = soup.findAll('div',attrs={'class':'BNeawe s3v9rd AP7Wnd'})\n",
        "strd = listdiv[5].text\n",
        "\n",
        "pos = strd.find('Wind')\n",
        "other_data = strd[pos:]"
      ],
      "metadata": {
        "id": "Bu1z8nlvlg7J"
      },
      "execution_count": 8,
      "outputs": []
    },
    {
      "cell_type": "code",
      "source": [
        "print(\"Temperature is\", temp)\n",
        "print(\"Time: \", time)\n",
        "print(\"Sky Description: \", sky)\n",
        "print(other_data)"
      ],
      "metadata": {
        "id": "w5nQi23-lg4Q",
        "outputId": "ade7d5ac-40f8-4f83-e4df-4c7f7aad6ad0",
        "colab": {
          "base_uri": "https://localhost:8080/"
        }
      },
      "execution_count": 9,
      "outputs": [
        {
          "output_type": "stream",
          "name": "stdout",
          "text": [
            "Temperature is 47°F\n",
            "Time:  Thursday 6:55 AM\n",
            "Sky Description:  Mostly cloudy\n",
            ".\n"
          ]
        }
      ]
    },
    {
      "cell_type": "markdown",
      "source": [
        "------"
      ],
      "metadata": {
        "id": "n39L4Afytm8f"
      }
    },
    {
      "cell_type": "markdown",
      "source": [
        "SECOND METHOD"
      ],
      "metadata": {
        "id": "BWCB0KfntaQr"
      }
    },
    {
      "cell_type": "markdown",
      "source": [
        "----------------------"
      ],
      "metadata": {
        "id": "tCmFDkIDtsJY"
      }
    },
    {
      "cell_type": "code",
      "source": [
        "# Importing the requests module\n",
        "import requests\n",
        "\n",
        "# Sending request to get the IP location information\n",
        "res = requests.get('https://ipinfo.io/')\n",
        "data = res.json()  # Receiving the response in JSON format\n",
        "\n",
        "# Extracting the location of the city from the response\n",
        "citydata = data['city']\n",
        "print(\"Current Location:\", citydata)\n",
        "\n",
        "# Passing the city name to the URL to get weather data\n",
        "url = 'https://wttr.in/{}'.format(citydata)\n",
        "res = requests.get(url)\n",
        "\n",
        "# Printing the schematic weather details of the city\n",
        "print(res.text)"
      ],
      "metadata": {
        "id": "E4iewkumtN5H",
        "outputId": "debb2d05-b9a6-4c93-fd4d-b6b38bc82248",
        "colab": {
          "base_uri": "https://localhost:8080/"
        }
      },
      "execution_count": 10,
      "outputs": [
        {
          "output_type": "stream",
          "name": "stdout",
          "text": [
            "Current Location: The Dalles\n",
            "Weather report: The Dalles\n",
            "\n",
            "  \u001b[38;5;250m     .-.     \u001b[0m Light rain, mist\n",
            "  \u001b[38;5;250m    (   ).   \u001b[0m \u001b[38;5;049m+3\u001b[0m(\u001b[38;5;049m2\u001b[0m) °C\u001b[0m       \n",
            "  \u001b[38;5;250m   (___(__)  \u001b[0m \u001b[1m←\u001b[0m \u001b[38;5;118m4\u001b[0m km/h\u001b[0m       \n",
            "  \u001b[38;5;111m    ‘ ‘ ‘ ‘  \u001b[0m 10 km\u001b[0m          \n",
            "  \u001b[38;5;111m   ‘ ‘ ‘ ‘   \u001b[0m 0.0 mm\u001b[0m         \n",
            "                                                       ┌─────────────┐                                                       \n",
            "┌──────────────────────────────┬───────────────────────┤  Wed 01 Jan ├───────────────────────┬──────────────────────────────┐\n",
            "│            Morning           │             Noon      └──────┬──────┘     Evening           │             Night            │\n",
            "├──────────────────────────────┼──────────────────────────────┼──────────────────────────────┼──────────────────────────────┤\n",
            "│               Fog            │               Overcast       │               Fog            │               Fog            │\n",
            "│ \u001b[38;5;251m _ - _ - _ - \u001b[0m \u001b[38;5;049m2\u001b[0m °C\u001b[0m           │ \u001b[38;5;240;1m     .--.    \u001b[0m \u001b[38;5;049m3\u001b[0m °C\u001b[0m           │ \u001b[38;5;251m _ - _ - _ - \u001b[0m \u001b[38;5;049m+2\u001b[0m(\u001b[38;5;050m1\u001b[0m) °C\u001b[0m       │ \u001b[38;5;251m _ - _ - _ - \u001b[0m \u001b[38;5;050m+1\u001b[0m(\u001b[38;5;051m-1\u001b[0m) °C\u001b[0m      │\n",
            "│ \u001b[38;5;251m  _ - _ - _  \u001b[0m \u001b[1m↑\u001b[0m \u001b[38;5;082m3\u001b[0m km/h\u001b[0m       │ \u001b[38;5;240;1m  .-(    ).  \u001b[0m \u001b[1m←\u001b[0m \u001b[38;5;082m3\u001b[0m-\u001b[38;5;118m4\u001b[0m km/h\u001b[0m     │ \u001b[38;5;251m  _ - _ - _  \u001b[0m \u001b[1m←\u001b[0m \u001b[38;5;118m5\u001b[0m-\u001b[38;5;154m7\u001b[0m km/h\u001b[0m     │ \u001b[38;5;251m  _ - _ - _  \u001b[0m \u001b[1m←\u001b[0m \u001b[38;5;118m4\u001b[0m-\u001b[38;5;118m5\u001b[0m km/h\u001b[0m     │\n",
            "│ \u001b[38;5;251m _ - _ - _ - \u001b[0m 2 km\u001b[0m           │ \u001b[38;5;240;1m (___.__)__) \u001b[0m 10 km\u001b[0m          │ \u001b[38;5;251m _ - _ - _ - \u001b[0m 2 km\u001b[0m           │ \u001b[38;5;251m _ - _ - _ - \u001b[0m 9 km\u001b[0m           │\n",
            "│               0.0 mm | 0%\u001b[0m    │               0.0 mm | 0%\u001b[0m    │               0.0 mm | 0%\u001b[0m    │               0.0 mm | 0%\u001b[0m    │\n",
            "└──────────────────────────────┴──────────────────────────────┴──────────────────────────────┴──────────────────────────────┘\n",
            "                                                       ┌─────────────┐                                                       \n",
            "┌──────────────────────────────┬───────────────────────┤  Thu 02 Jan ├───────────────────────┬──────────────────────────────┐\n",
            "│            Morning           │             Noon      └──────┬──────┘     Evening           │             Night            │\n",
            "├──────────────────────────────┼──────────────────────────────┼──────────────────────────────┼──────────────────────────────┤\n",
            "│               Fog            │               Mist           │ \u001b[38;5;250m     .-.     \u001b[0m Light rain     │               Freezing fog   │\n",
            "│ \u001b[38;5;251m _ - _ - _ - \u001b[0m \u001b[38;5;049m+2\u001b[0m(\u001b[38;5;051m-1\u001b[0m) °C\u001b[0m      │ \u001b[38;5;251m _ - _ - _ - \u001b[0m \u001b[38;5;049m+3\u001b[0m(\u001b[38;5;050m1\u001b[0m) °C\u001b[0m       │ \u001b[38;5;250m    (   ).   \u001b[0m \u001b[38;5;050m+1\u001b[0m(\u001b[38;5;051m-1\u001b[0m) °C\u001b[0m      │ \u001b[38;5;251m _ - _ - _ - \u001b[0m \u001b[38;5;050m0\u001b[0m(\u001b[38;5;045m-4\u001b[0m) °C\u001b[0m       │\n",
            "│ \u001b[38;5;251m  _ - _ - _  \u001b[0m \u001b[1m←\u001b[0m \u001b[38;5;082m3\u001b[0m km/h\u001b[0m       │ \u001b[38;5;251m  _ - _ - _  \u001b[0m \u001b[1m↙\u001b[0m \u001b[38;5;118m5\u001b[0m-\u001b[38;5;118m6\u001b[0m km/h\u001b[0m     │ \u001b[38;5;250m   (___(__)  \u001b[0m \u001b[1m↙\u001b[0m \u001b[38;5;082m3\u001b[0m-\u001b[38;5;118m5\u001b[0m km/h\u001b[0m     │ \u001b[38;5;251m  _ - _ - _  \u001b[0m \u001b[1m↓\u001b[0m \u001b[38;5;082m3\u001b[0m-\u001b[38;5;118m5\u001b[0m km/h\u001b[0m     │\n",
            "│ \u001b[38;5;251m _ - _ - _ - \u001b[0m 0 km\u001b[0m           │ \u001b[38;5;251m _ - _ - _ - \u001b[0m 0 km\u001b[0m           │ \u001b[38;5;111m    ‘ ‘ ‘ ‘  \u001b[0m 9 km\u001b[0m           │ \u001b[38;5;251m _ - _ - _ - \u001b[0m 2 km\u001b[0m           │\n",
            "│               0.0 mm | 0%\u001b[0m    │               0.0 mm | 0%\u001b[0m    │ \u001b[38;5;111m   ‘ ‘ ‘ ‘   \u001b[0m 1.0 mm | 100%\u001b[0m  │               0.0 mm | 0%\u001b[0m    │\n",
            "└──────────────────────────────┴──────────────────────────────┴──────────────────────────────┴──────────────────────────────┘\n",
            "                                                       ┌─────────────┐                                                       \n",
            "┌──────────────────────────────┬───────────────────────┤  Fri 03 Jan ├───────────────────────┬──────────────────────────────┐\n",
            "│            Morning           │             Noon      └──────┬──────┘     Evening           │             Night            │\n",
            "├──────────────────────────────┼──────────────────────────────┼──────────────────────────────┼──────────────────────────────┤\n",
            "│ \u001b[38;5;240;1m     .-.     \u001b[0m Moderate rain  │ \u001b[38;5;240;1m     .-.     \u001b[0m Moderate rain  │ \u001b[38;5;240;1m     .-.     \u001b[0m Moderate rain  │ \u001b[38;5;250m     .-.     \u001b[0m Light rain     │\n",
            "│ \u001b[38;5;240;1m    (   ).   \u001b[0m \u001b[38;5;049m+2\u001b[0m(\u001b[38;5;050m1\u001b[0m) °C\u001b[0m       │ \u001b[38;5;240;1m    (   ).   \u001b[0m \u001b[38;5;049m3\u001b[0m °C\u001b[0m           │ \u001b[38;5;240;1m    (   ).   \u001b[0m \u001b[38;5;049m+3\u001b[0m(\u001b[38;5;049m2\u001b[0m) °C\u001b[0m       │ \u001b[38;5;250m    (   ).   \u001b[0m \u001b[38;5;049m+3\u001b[0m(\u001b[38;5;049m2\u001b[0m) °C\u001b[0m       │\n",
            "│ \u001b[38;5;240;1m   (___(__)  \u001b[0m \u001b[1m←\u001b[0m \u001b[38;5;082m2\u001b[0m km/h\u001b[0m       │ \u001b[38;5;240;1m   (___(__)  \u001b[0m \u001b[1m↓\u001b[0m \u001b[38;5;082m2\u001b[0m km/h\u001b[0m       │ \u001b[38;5;240;1m   (___(__)  \u001b[0m \u001b[1m←\u001b[0m \u001b[38;5;082m3\u001b[0m-\u001b[38;5;118m4\u001b[0m km/h\u001b[0m     │ \u001b[38;5;250m   (___(__)  \u001b[0m \u001b[1m↙\u001b[0m \u001b[38;5;118m5\u001b[0m-\u001b[38;5;118m6\u001b[0m km/h\u001b[0m     │\n",
            "│ \u001b[38;5;21;1m  ‚‘‚‘‚‘‚‘   \u001b[0m 9 km\u001b[0m           │ \u001b[38;5;21;1m  ‚‘‚‘‚‘‚‘   \u001b[0m 9 km\u001b[0m           │ \u001b[38;5;21;1m  ‚‘‚‘‚‘‚‘   \u001b[0m 2 km\u001b[0m           │ \u001b[38;5;111m    ‘ ‘ ‘ ‘  \u001b[0m 0 km\u001b[0m           │\n",
            "│ \u001b[38;5;21;1m  ‚’‚’‚’‚’   \u001b[0m 3.2 mm | 100%\u001b[0m  │ \u001b[38;5;21;1m  ‚’‚’‚’‚’   \u001b[0m 3.7 mm | 100%\u001b[0m  │ \u001b[38;5;21;1m  ‚’‚’‚’‚’   \u001b[0m 3.6 mm | 100%\u001b[0m  │ \u001b[38;5;111m   ‘ ‘ ‘ ‘   \u001b[0m 0.8 mm | 100%\u001b[0m  │\n",
            "└──────────────────────────────┴──────────────────────────────┴──────────────────────────────┴──────────────────────────────┘\n",
            "Location: The Dalles, Wasco County, Oregon, 95058, United States of America [45.6015056,-121.1841587]\n",
            "\n",
            "Follow \u001b[46m\u001b[30m@igor_chubin\u001b[0m for wttr.in updates\n",
            "\n"
          ]
        }
      ]
    },
    {
      "cell_type": "code",
      "source": [],
      "metadata": {
        "id": "9n7tcMZzlg1c"
      },
      "execution_count": null,
      "outputs": []
    }
  ],
  "metadata": {
    "colab": {
      "name": "Welcome To Colab",
      "provenance": [],
      "include_colab_link": true
    },
    "kernelspec": {
      "display_name": "Python 3",
      "name": "python3"
    }
  },
  "nbformat": 4,
  "nbformat_minor": 0
}